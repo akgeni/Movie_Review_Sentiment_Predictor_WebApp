{
 "cells": [
  {
   "cell_type": "code",
   "execution_count": 3,
   "metadata": {
    "collapsed": false
   },
   "outputs": [
    {
     "name": "stdout",
     "output_type": "stream",
     "text": [
      "Prediction: positive\n",
      "Probability: 91.56%\n"
     ]
    }
   ],
   "source": [
    "import pickle\n",
    "import re\n",
    "import os\n",
    "from vectorizer import vect\n",
    "dest = os.path.join(os.path.dirname(os.getcwd()))\n",
    "clf = pickle.load(open(\n",
    "    os.path.join( 'pkl_objects',\n",
    "    'classifier.pkl'), 'rb'))\n",
    "import numpy as np\n",
    "label = {0:'negative', 1:'positive'}\n",
    "\n",
    "import numpy as np\n",
    "label = {0:'negative', 1:'positive'}\n",
    "\n",
    "example = ['I love this movie']\n",
    "X = vect.transform(example)\n",
    "print('Prediction: %s\\nProbability: %.2f%%' % (label[clf.predict(X)[0]], np.max(clf.predict_proba(X))*100))"
   ]
  },
  {
   "cell_type": "code",
   "execution_count": 34,
   "metadata": {
    "collapsed": false
   },
   "outputs": [],
   "source": [
    "dest = os.path.join(os.getcwd(), 'movieclassifier\\\\pkl_objects\\\\')\n",
    "#dest\n",
    "clf = pickle.load(open(os.path.join(dest, 'classifier.pkl'), 'rb'))"
   ]
  },
  {
   "cell_type": "code",
   "execution_count": 35,
   "metadata": {
    "collapsed": false
   },
   "outputs": [
    {
     "data": {
      "text/plain": [
       "array([0], dtype=int64)"
      ]
     },
     "execution_count": 35,
     "metadata": {},
     "output_type": "execute_result"
    }
   ],
   "source": [
    "clf.predict(X)"
   ]
  },
  {
   "cell_type": "code",
   "execution_count": 36,
   "metadata": {
    "collapsed": false
   },
   "outputs": [
    {
     "name": "stdout",
     "output_type": "stream",
     "text": [
      "Prediction: negative, Probability: 52.5608242861\n"
     ]
    }
   ],
   "source": [
    "label = {1:'positive', 0:'negative'}\n",
    "exapmle = ['I  this movie, best, super great']\n",
    "\n",
    "X = vect.transform(exapmle)\n",
    "\n",
    "print(\"Prediction: %s, Probability: %s\" % (label[clf.predict(X)[0]], np.max(clf.predict_proba(X))*100))\n"
   ]
  },
  {
   "cell_type": "code",
   "execution_count": 7,
   "metadata": {
    "collapsed": false
   },
   "outputs": [
    {
     "data": {
      "text/plain": [
       "<sqlite3.Cursor at 0x1b79cfba5e0>"
      ]
     },
     "execution_count": 7,
     "metadata": {},
     "output_type": "execute_result"
    }
   ],
   "source": [
    "import sqlite3\n",
    "import os\n",
    "\n",
    "conn = sqlite3.connect('reviews.sqlite')\n",
    "c = conn.cursor()\n",
    "\n",
    "c.execute('CREATE TABLE review_db (review TEXT, sentiment INTEGER, date TEXT)')\n"
   ]
  },
  {
   "cell_type": "code",
   "execution_count": 10,
   "metadata": {
    "collapsed": false
   },
   "outputs": [
    {
     "data": {
      "text/plain": [
       "<sqlite3.Cursor at 0x1b79cfba5e0>"
      ]
     },
     "execution_count": 10,
     "metadata": {},
     "output_type": "execute_result"
    }
   ],
   "source": [
    "example1 = 'I love this movie'\n",
    "c.execute('INSERT INTO review_db (review, sentiment, date) VALUES (?, ?, DATETIME(\"now\"))', (example1, 1))\n",
    "example2 = \"I dislike this movie\"\n",
    "c.execute(\"INSERT INTO review_db (review, sentiment, date) VALUES (?, ?, DATETIME('now'))\", (example2, 0))\n",
    "\n"
   ]
  },
  {
   "cell_type": "code",
   "execution_count": 12,
   "metadata": {
    "collapsed": false
   },
   "outputs": [],
   "source": [
    "conn.commit()"
   ]
  },
  {
   "cell_type": "code",
   "execution_count": 14,
   "metadata": {
    "collapsed": false
   },
   "outputs": [
    {
     "data": {
      "text/plain": [
       "<sqlite3.Cursor at 0x1b79cfba5e0>"
      ]
     },
     "execution_count": 14,
     "metadata": {},
     "output_type": "execute_result"
    }
   ],
   "source": [
    "c.execute(\"select * from review_db\")"
   ]
  },
  {
   "cell_type": "code",
   "execution_count": 15,
   "metadata": {
    "collapsed": false
   },
   "outputs": [
    {
     "data": {
      "text/plain": [
       "[('I love this movie', 1, '2016-12-10 13:19:50'),\n",
       " ('I dislike this movie', 0, '2016-12-10 13:19:50')]"
      ]
     },
     "execution_count": 15,
     "metadata": {},
     "output_type": "execute_result"
    }
   ],
   "source": [
    "c.fetchall()"
   ]
  },
  {
   "cell_type": "code",
   "execution_count": null,
   "metadata": {
    "collapsed": false
   },
   "outputs": [
    {
     "name": "stderr",
     "output_type": "stream",
     "text": [
      " * Running on http://127.0.0.1:5000/ (Press CTRL+C to quit)\n",
      "[2016-12-10 19:15:31,626] ERROR in app: Exception on / [GET]\n",
      "Traceback (most recent call last):\n",
      "  File \"C:\\Anaconda3\\envs\\py3k\\lib\\site-packages\\flask\\app.py\", line 1988, in wsgi_app\n",
      "    response = self.full_dispatch_request()\n",
      "  File \"C:\\Anaconda3\\envs\\py3k\\lib\\site-packages\\flask\\app.py\", line 1641, in full_dispatch_request\n",
      "    rv = self.handle_user_exception(e)\n",
      "  File \"C:\\Anaconda3\\envs\\py3k\\lib\\site-packages\\flask\\app.py\", line 1544, in handle_user_exception\n",
      "    reraise(exc_type, exc_value, tb)\n",
      "  File \"C:\\Anaconda3\\envs\\py3k\\lib\\site-packages\\flask\\_compat.py\", line 33, in reraise\n",
      "    raise value\n",
      "  File \"C:\\Anaconda3\\envs\\py3k\\lib\\site-packages\\flask\\app.py\", line 1639, in full_dispatch_request\n",
      "    rv = self.dispatch_request()\n",
      "  File \"C:\\Anaconda3\\envs\\py3k\\lib\\site-packages\\flask\\app.py\", line 1625, in dispatch_request\n",
      "    return self.view_functions[rule.endpoint](**req.view_args)\n",
      "  File \"<ipython-input-20-5251dfe99cd0>\", line 7, in index\n",
      "    return render_template('sentiment_app.html')\n",
      "  File \"C:\\Anaconda3\\envs\\py3k\\lib\\site-packages\\flask\\templating.py\", line 133, in render_template\n",
      "    return _render(ctx.app.jinja_env.get_or_select_template(template_name_or_list),\n",
      "  File \"C:\\Anaconda3\\envs\\py3k\\lib\\site-packages\\jinja2\\environment.py\", line 851, in get_or_select_template\n",
      "    return self.get_template(template_name_or_list, parent, globals)\n",
      "  File \"C:\\Anaconda3\\envs\\py3k\\lib\\site-packages\\jinja2\\environment.py\", line 812, in get_template\n",
      "    return self._load_template(name, self.make_globals(globals))\n",
      "  File \"C:\\Anaconda3\\envs\\py3k\\lib\\site-packages\\jinja2\\environment.py\", line 774, in _load_template\n",
      "    cache_key = self.loader.get_source(self, name)[1]\n",
      "  File \"C:\\Anaconda3\\envs\\py3k\\lib\\site-packages\\flask\\templating.py\", line 57, in get_source\n",
      "    return self._get_source_fast(environment, template)\n",
      "  File \"C:\\Anaconda3\\envs\\py3k\\lib\\site-packages\\flask\\templating.py\", line 85, in _get_source_fast\n",
      "    raise TemplateNotFound(template)\n",
      "jinja2.exceptions.TemplateNotFound: sentiment_app.html\n",
      "127.0.0.1 - - [10/Dec/2016 19:15:31] \"GET / HTTP/1.1\" 500 -\n"
     ]
    }
   ],
   "source": [
    "from flask import Flask, render_template\n",
    "\n",
    "app = Flask('Sentiment App')\n",
    "\n",
    "@app.route('/')\n",
    "def index():\n",
    "    return render_template('sentiment_app.html')\n",
    "\n",
    "if __name__ == '__main__':\n",
    "    app.run()"
   ]
  }
 ],
 "metadata": {
  "anaconda-cloud": {},
  "kernelspec": {
   "display_name": "Python [conda env:py3k]",
   "language": "python",
   "name": "conda-env-py3k-py"
  },
  "language_info": {
   "codemirror_mode": {
    "name": "ipython",
    "version": 3
   },
   "file_extension": ".py",
   "mimetype": "text/x-python",
   "name": "python",
   "nbconvert_exporter": "python",
   "pygments_lexer": "ipython3",
   "version": "3.5.2"
  }
 },
 "nbformat": 4,
 "nbformat_minor": 1
}
